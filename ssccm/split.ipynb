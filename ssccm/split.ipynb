{
 "cells": [
  {
   "cell_type": "code",
   "execution_count": 5,
   "metadata": {
    "collapsed": false
   },
   "outputs": [
    {
     "name": "stdout",
     "output_type": "stream",
     "text": [
      "4451\n"
     ]
    }
   ],
   "source": [
    "import os\n",
    "\n",
    "files = [i for i in os.listdir(\"./\") if i.endswith(\".mid\")]\n",
    "print(len(files))\n",
    "idx0 = int(len(files)*0.6)\n",
    "idx1 = int(len(files)*0.8)\n",
    "\n",
    "train = files[:idx0]\n",
    "validation = files[idx0:idx1]\n",
    "test = files[idx1:]\n",
    "\n",
    "for i in train:\n",
    "    os.rename(i, \"./train/\"+i)\n",
    "for i in validation:\n",
    "    os.rename(i, \"./validation/\"+i)\n",
    "for i in test:\n",
    "    os.rename(i, \"./test/\"+i)"
   ]
  }
 ],
 "metadata": {
  "kernelspec": {
   "display_name": "Python 3",
   "language": "python",
   "name": "python3"
  },
  "language_info": {
   "codemirror_mode": {
    "name": "ipython",
    "version": 3
   },
   "file_extension": ".py",
   "mimetype": "text/x-python",
   "name": "python",
   "nbconvert_exporter": "python",
   "pygments_lexer": "ipython3",
   "version": "3.5.4"
  }
 },
 "nbformat": 4,
 "nbformat_minor": 0
}
